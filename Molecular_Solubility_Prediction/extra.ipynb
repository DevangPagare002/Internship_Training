{
 "cells": [
  {
   "cell_type": "code",
   "execution_count": 4,
   "metadata": {},
   "outputs": [],
   "source": [
    "smiles = \"NCCCCCCCCN\""
   ]
  },
  {
   "cell_type": "code",
   "execution_count": 5,
   "metadata": {},
   "outputs": [],
   "source": [
    "import numpy as np\n",
    "import pandas as pd\n",
    "import streamlit as st\n",
    "import pickle\n",
    "from PIL import Image\n",
    "from rdkit import Chem\n",
    "from rdkit.Chem import Descriptors"
   ]
  },
  {
   "cell_type": "code",
   "execution_count": 8,
   "metadata": {},
   "outputs": [
    {
     "name": "stdout",
     "output_type": "stream",
     "text": [
      "<rdkit.Chem.rdchem.Mol object at 0x7f6d2bcfd580>\n",
      "<rdkit.Chem.rdchem.Mol object at 0x7f6d2bcfd510>\n",
      "<rdkit.Chem.rdchem.Mol object at 0x7f6d2bcfd660>\n",
      "<rdkit.Chem.rdchem.Mol object at 0x7f6d2bcfd740>\n",
      "<rdkit.Chem.rdchem.Mol object at 0x7f6d2bcfd820>\n",
      "<rdkit.Chem.rdchem.Mol object at 0x7f6d2bcfd900>\n",
      "<rdkit.Chem.rdchem.Mol object at 0x7f6d2bcfd9e0>\n",
      "<rdkit.Chem.rdchem.Mol object at 0x7f6d2bcfdac0>\n",
      "<rdkit.Chem.rdchem.Mol object at 0x7f6d2bcfdba0>\n",
      "<rdkit.Chem.rdchem.Mol object at 0x7f6d2bcfdc80>\n"
     ]
    }
   ],
   "source": [
    "moldata= []\n",
    "for elem in smiles:\n",
    "    mol=Chem.MolFromSmiles(elem) # This creates mol object \n",
    "    print(mol)\n",
    "    moldata.append(mol)"
   ]
  },
  {
   "cell_type": "code",
   "execution_count": 7,
   "metadata": {},
   "outputs": [
    {
     "data": {
      "text/plain": [
       "[<rdkit.Chem.rdchem.Mol at 0x7f6d2bd87c80>,\n",
       " <rdkit.Chem.rdchem.Mol at 0x7f6d2bd87ac0>,\n",
       " <rdkit.Chem.rdchem.Mol at 0x7f6d2bd87cf0>,\n",
       " <rdkit.Chem.rdchem.Mol at 0x7f6d2bd87d60>,\n",
       " <rdkit.Chem.rdchem.Mol at 0x7f6d2bd87dd0>,\n",
       " <rdkit.Chem.rdchem.Mol at 0x7f6d2bd87f20>,\n",
       " <rdkit.Chem.rdchem.Mol at 0x7f6d2bd87f90>,\n",
       " <rdkit.Chem.rdchem.Mol at 0x7f6d2bcfd200>,\n",
       " <rdkit.Chem.rdchem.Mol at 0x7f6d2bcfd040>,\n",
       " <rdkit.Chem.rdchem.Mol at 0x7f6d2bcfd190>]"
      ]
     },
     "execution_count": 7,
     "metadata": {},
     "output_type": "execute_result"
    }
   ],
   "source": [
    "moldata"
   ]
  },
  {
   "cell_type": "code",
   "execution_count": 9,
   "metadata": {},
   "outputs": [
    {
     "data": {
      "text/plain": [
       "array([], dtype=int64)"
      ]
     },
     "execution_count": 9,
     "metadata": {},
     "output_type": "execute_result"
    }
   ],
   "source": [
    "baseData= np.arange(1,1)\n",
    "baseData"
   ]
  },
  {
   "cell_type": "code",
   "execution_count": null,
   "metadata": {},
   "outputs": [],
   "source": []
  }
 ],
 "metadata": {
  "kernelspec": {
   "display_name": "streamlit",
   "language": "python",
   "name": "python3"
  },
  "language_info": {
   "codemirror_mode": {
    "name": "ipython",
    "version": 3
   },
   "file_extension": ".py",
   "mimetype": "text/x-python",
   "name": "python",
   "nbconvert_exporter": "python",
   "pygments_lexer": "ipython3",
   "version": "3.8.10"
  },
  "orig_nbformat": 4
 },
 "nbformat": 4,
 "nbformat_minor": 2
}
